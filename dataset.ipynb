{
 "cells": [
  {
   "cell_type": "code",
   "execution_count": 1,
   "metadata": {},
   "outputs": [
    {
     "name": "stderr",
     "output_type": "stream",
     "text": [
      "c:\\Users\\Jayesh\\AppData\\Local\\Programs\\Python\\Python39\\lib\\site-packages\\tqdm\\auto.py:21: TqdmWarning: IProgress not found. Please update jupyter and ipywidgets. See https://ipywidgets.readthedocs.io/en/stable/user_install.html\n",
      "  from .autonotebook import tqdm as notebook_tqdm\n"
     ]
    }
   ],
   "source": [
    "from datasets import load_dataset\n",
    "from datasets import load_metric\n",
    "# from transformers import AutoImageProcessor\n",
    "# from transformers import AutoModelForImageClassification, TrainingArguments, Trainer\n",
    "# import torch\n",
    "import numpy as np\n",
    "from PIL import Image\n",
    "import cv2\n",
    "import os"
   ]
  },
  {
   "cell_type": "code",
   "execution_count": 2,
   "metadata": {},
   "outputs": [],
   "source": [
    "x_train = np.load('mhsma\\\\x_128_train.npy')\n",
    "x_test = np.load('mhsma\\\\x_128_test.npy')\n",
    "x_valid = np.load('mhsma\\\\x_128_valid.npy')\n",
    "head_train_labels = np.load(\"mhsma\\\\y_head_train.npy\")\n",
    "head_test_labels = np.load(\"mhsma\\\\y_head_test.npy\")\n",
    "head_valid_labels = np.load(\"mhsma\\\\y_head_valid.npy\")\n",
    "acrosome_train_labels = np.load(\"mhsma\\\\y_acrosome_train.npy\")\n",
    "acrosome_test_labels = np.load(\"mhsma\\\\y_acrosome_test.npy\")\n",
    "acrosome_valid_labels = np.load(\"mhsma\\\\y_acrosome_valid.npy\")\n",
    "tail_train_labels = np.load(\"mhsma\\\\y_tail_train.npy\")\n",
    "tail_test_labels = np.load(\"mhsma\\\\y_tail_test.npy\")\n",
    "tail_valid_labels = np.load(\"mhsma\\\\y_tail_valid.npy\")\n",
    "vacuole_train_labels = np.load(\"mhsma\\\\y_vacuole_train.npy\")\n",
    "vacuole_test_labels = np.load(\"mhsma\\\\y_vacuole_test.npy\")\n",
    "vacuole_valid_labels = np.load(\"mhsma\\\\y_vacuole_valid.npy\")\n"
   ]
  },
  {
   "cell_type": "code",
   "execution_count": 3,
   "metadata": {},
   "outputs": [],
   "source": [
    "def save_numpy_as_png(file_path, numpy_array):\n",
    "    uint8_array = numpy_array.astype(np.uint8)\n",
    "    image = Image.fromarray(uint8_array, 'L')\n",
    "    image.save(file_path)\n",
    "\n",
    "def convert_to_rgb(file_path):\n",
    "    img = cv2.imread(file_path, cv2.IMREAD_GRAYSCALE)\n",
    "    img = cv2.cvtColor(img, cv2.COLOR_GRAY2RGB)\n",
    "    cv2.imwrite(file_path, img)"
   ]
  },
  {
   "cell_type": "code",
   "execution_count": 47,
   "metadata": {},
   "outputs": [],
   "source": [
    "file_path = \"hf_vacuole_dataset\\\\validation\""
   ]
  },
  {
   "cell_type": "code",
   "execution_count": 48,
   "metadata": {},
   "outputs": [],
   "source": [
    "for i, img_array in enumerate(x_valid):\n",
    "    save_numpy_as_png(f\"{file_path}\\\\{str(vacuole_valid_labels[i])}\\\\{str(i)}.png\", img_array)"
   ]
  },
  {
   "cell_type": "code",
   "execution_count": 49,
   "metadata": {},
   "outputs": [],
   "source": [
    "files = os.listdir(f\"{file_path}\\\\0\")\n",
    "for file in files:\n",
    "    convert_to_rgb(f\"{file_path}\\\\0\\\\{file}\")\n",
    "\n",
    "files = os.listdir(f\"{file_path}\\\\1\")\n",
    "for file in files:\n",
    "    convert_to_rgb(f\"{file_path}\\\\1\\\\{file}\")"
   ]
  },
  {
   "cell_type": "code",
   "execution_count": null,
   "metadata": {},
   "outputs": [],
   "source": []
  }
 ],
 "metadata": {
  "kernelspec": {
   "display_name": "Python 3",
   "language": "python",
   "name": "python3"
  },
  "language_info": {
   "codemirror_mode": {
    "name": "ipython",
    "version": 3
   },
   "file_extension": ".py",
   "mimetype": "text/x-python",
   "name": "python",
   "nbconvert_exporter": "python",
   "pygments_lexer": "ipython3",
   "version": "3.9.9"
  },
  "orig_nbformat": 4
 },
 "nbformat": 4,
 "nbformat_minor": 2
}
